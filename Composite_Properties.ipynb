{
  "nbformat": 4,
  "nbformat_minor": 0,
  "metadata": {
    "colab": {
      "provenance": []
    },
    "kernelspec": {
      "name": "python3",
      "display_name": "Python 3"
    },
    "language_info": {
      "name": "python"
    }
  },
  "cells": [
    {
      "cell_type": "code",
      "execution_count": null,
      "metadata": {
        "colab": {
          "base_uri": "https://localhost:8080/"
        },
        "id": "03rrA6jDiGj1",
        "outputId": "8e202e47-30e4-4b14-ba95-a7b90a56a648"
      },
      "outputs": [
        {
          "output_type": "stream",
          "name": "stdout",
          "text": [
            "   Theta           Exx           Eyy          Gxy\n",
            "0      0  63400.000000  63400.000000   4500.00000\n",
            "1     45  15861.014593  15861.014593  30190.47619\n",
            "2    -45  15861.014593  15861.014593  30190.47619\n",
            "3     90  63400.000000  63400.000000   4500.00000\n"
          ]
        }
      ],
      "source": [
        "import numpy as np\n",
        "import pandas as pd\n",
        "\n",
        "\"\"\"\n",
        "Objective is to create Composite properties table to analyse global stress\n",
        "and convert metallic skin into Composite...\n",
        "\n",
        "| Formula Given |\n",
        "|---------------|\n",
        "\n",
        "Exx = 1 / (((np.cos(theta_rad) ** 4) / E11) + ((np.sin(theta_rad) ** 4) / E22) + (1/4 * (1 / G12 - (2 * niu12) / E11)) * (np.sin(2 * theta_rad) ** 2))\n",
        "Eyy = 1 / (((np.sin(theta_rad) ** 4) / E11) + ((np.cos(theta_rad) ** 4) / E22) + (1/4 * (1 / G12 - (2 * niu12) / E11)) * (np.sin(2 * theta_rad) ** 2))\n",
        "Gxy = 1 / ((1 / E11) + (2 * niu12 / E11) + (1/E22) - (( (1 / E11) + ((2 * niu12) / E11) + (1/E22) - (1/G12)) * (np.cos(2 * theta_rad) ** 2)))\n",
        "\n",
        "\"\"\"\n",
        "\n",
        "class TransformProperties:\n",
        "  def __init__(self, E11, E22, G12, niu12):\n",
        "    \"\"\" Initializing material properties \"\"\"\n",
        "    self.E11 = E11\n",
        "    self.E22 = E22\n",
        "    self.G12 = G12\n",
        "    self.niu12 = niu12\n",
        "\n",
        "  def get_Exx (self, theta_rad):\n",
        "\n",
        "    Exx = 1 / (\n",
        "        ((np.cos(theta_rad) ** 4) / E11) +\n",
        "      ((np.sin(theta_rad) ** 4) / E22) +\n",
        "       (1/4 * (1 / G12 - (2 * niu12) / E11)) * (np.sin(2 * theta_rad) ** 2))\n",
        "\n",
        "    return Exx\n",
        "\n",
        "  def get_Eyy (self, theta_rad):\n",
        "\n",
        "    Eyy = 1 / (\n",
        "         ((np.sin(theta_rad) ** 4) / E11) +\n",
        "      ((np.cos(theta_rad) ** 4) / E22) +\n",
        "       (1/4 * (1 / G12 - (2 * niu12) / E11)) * (np.sin(2 * theta_rad) ** 2))\n",
        "\n",
        "    return Eyy\n",
        "\n",
        "  def get_Gxy (self, theta_rad):\n",
        "\n",
        "    Gxy = 1 / (\n",
        "        (1 / E11) + (2 * niu12 / E11) +\n",
        "      (1/E22) - (( (1 / E11) + ((2 * niu12) / E11) +\n",
        "       (1/E22) - (1/G12)) * (np.cos(2 * theta_rad) ** 2)))\n",
        "\n",
        "    return Gxy\n",
        "\n",
        "  def generate_table (self, orient_list):\n",
        "\n",
        "    data = []\n",
        "    for theta in orient_list:\n",
        "      theta_rad = np.radians(theta)\n",
        "      data.append([theta, self.get_Exx(theta_rad), self.get_Eyy(theta_rad), self.get_Gxy(theta_rad)])\n",
        "\n",
        "    data_frame = pd.DataFrame(data, columns=['Theta', 'Exx', 'Eyy', 'Gxy'])\n",
        "    return data_frame\n",
        "\n",
        "material = TransformProperties(E11=63400, E22=63400, G12=4500, niu12=0.05)\n",
        "theta_list = [0, 45, -45, 90]\n",
        "\n",
        "result_table = material.generate_table(theta_list)\n",
        "print(result_table)\n"
      ]
    }
  ]
}